{
 "cells": [
  {
   "cell_type": "markdown",
   "metadata": {},
   "source": [
    "# Project Ruby\n",
    "\n",
    "Customer survey analysis"
   ]
  },
  {
   "cell_type": "code",
   "execution_count": 1,
   "metadata": {
    "ExecuteTime": {
     "end_time": "2021-11-21T21:14:44.577001Z",
     "start_time": "2021-11-21T21:14:42.637670Z"
    }
   },
   "outputs": [],
   "source": [
    "import numpy as np\n",
    "import pandas as pd\n",
    "import matplotlib.pyplot as plt\n",
    "import seaborn as sns\n",
    "\n",
    "%matplotlib inline"
   ]
  },
  {
   "cell_type": "code",
   "execution_count": 2,
   "metadata": {
    "ExecuteTime": {
     "end_time": "2021-11-21T21:14:44.586533Z",
     "start_time": "2021-11-21T21:14:44.580087Z"
    }
   },
   "outputs": [],
   "source": [
    "image_directory=\"images/\"\n",
    "image_extension=\"png\"\n",
    "\n",
    "def save_figure(fig, filename):\n",
    "    filepath = image_directory + filename + \".\" + image_extension\n",
    "    fig.savefig(filepath)"
   ]
  },
  {
   "cell_type": "code",
   "execution_count": 3,
   "metadata": {
    "ExecuteTime": {
     "end_time": "2021-11-21T21:14:44.595779Z",
     "start_time": "2021-11-21T21:14:44.590462Z"
    }
   },
   "outputs": [],
   "source": [
    "NORMAL_SIZE = 12\n",
    "#BIGGER_SIZE = 14\n",
    "#BIGGEST_SIZE = 16\n",
    "\n",
    "plt.rc('font', size=NORMAL_SIZE)          # controls default text sizes\n",
    "#plt.rc('axes', titlesize=BIGGER_SIZE)     # fontsize of the axes title\n",
    "#plt.rc('axes', labelsize=BIGGER_SIZE)    # fontsize of the x and y labels\n",
    "#plt.rc('xtick', labelsize=NORMAL_SIZE)    # fontsize of the tick labels\n",
    "#plt.rc('ytick', labelsize=NORMAL_SIZE)    # fontsize of the tick labels\n",
    "#plt.rc('legend', fontsize=NORMAL_SIZE)    # legend fontsize\n",
    "#plt.rc('figure', titlesize=BIGGEST_SIZE)  # fontsize of the figure title\n",
    "\n",
    "sns.set(font_scale=1.1)"
   ]
  },
  {
   "cell_type": "markdown",
   "metadata": {},
   "source": [
    "# Data Preparation"
   ]
  },
  {
   "cell_type": "code",
   "execution_count": 10,
   "metadata": {
    "ExecuteTime": {
     "end_time": "2021-11-21T23:53:28.186545Z",
     "start_time": "2021-11-21T23:53:28.156414Z"
    }
   },
   "outputs": [
    {
     "data": {
      "text/plain": [
       "(292, 60)"
      ]
     },
     "metadata": {},
     "output_type": "display_data"
    }
   ],
   "source": [
    "survey_data = pd.read_csv(\"clean_survey_data.csv\");\n",
    "display(survey_data.shape) # rows & columns"
   ]
  },
  {
   "cell_type": "code",
   "execution_count": 14,
   "metadata": {
    "ExecuteTime": {
     "end_time": "2021-11-21T23:54:53.039531Z",
     "start_time": "2021-11-21T23:54:53.020110Z"
    }
   },
   "outputs": [
    {
     "data": {
      "text/plain": [
       "Gender                             object\n",
       "Age                                object\n",
       "Income                             object\n",
       "Education                          object\n",
       "Relationship_Status                object\n",
       "Residence                          object\n",
       "Home                               object\n",
       "Number_Dogs                        object\n",
       "Dog_Weights                        object\n",
       "Weights_Less_10                      bool\n",
       "Weights_11_25                        bool\n",
       "Weights_91_120                       bool\n",
       "Weights_71_90                        bool\n",
       "Weights_41_70                        bool\n",
       "Weights_26_40                        bool\n",
       "Weights_Greater_120                  bool\n",
       "Security_Cameras                   object\n",
       "Spend_Insurance                   float64\n",
       "Spend_Food                        float64\n",
       "Spend_Boarding                    float64\n",
       "Spend_Grooming                    float64\n",
       "Service_Animal                     object\n",
       "Car_Seat                           object\n",
       "Car_Seat_Retail                    object\n",
       "Exercise                           object\n",
       "Activities_Walk                     int64\n",
       "Activities_Run                      int64\n",
       "Activities_Hunt                     int64\n",
       "Activities_Dog_Parks                int64\n",
       "Activities_Outdoor_Adventures       int64\n",
       "Activities_Shopping                 int64\n",
       "Activities_Vacation                 int64\n",
       "Walking_Assistance                 object\n",
       "Vehicle_Types                      object\n",
       "Concern_Safety                     object\n",
       "Accidents                          object\n",
       "Accident_with_Dog                  object\n",
       "Dog_Injured_Accident               object\n",
       "Dog_Insurance_Claim                object\n",
       "Restrain_Dog                       object\n",
       "Paid_Restraint                    float64\n",
       "Restraint_Influence_Online          int64\n",
       "Restraint_Influence_Retail          int64\n",
       "Restraint_Influence_Price           int64\n",
       "Restraint_Influence_Aesthetics      int64\n",
       "Influence_Removable                 int64\n",
       "Influence_Stain                     int64\n",
       "Influence_Lightweight               int64\n",
       "Influence_Sturdy                    int64\n",
       "Pay_Basic_100                      object\n",
       "Pay_Basic_200                      object\n",
       "Pay_Revolutionary_100              object\n",
       "Pay_Revolutionary_200              object\n",
       "Pay_Fact_100                       object\n",
       "Pay_Fact_200                       object\n",
       "Pay_Law_100                        object\n",
       "Pay_Law_200                        object\n",
       "Pay_All_100                        object\n",
       "Pay_All_200                        object\n",
       "Maximum_Pay                         int64\n",
       "dtype: object"
      ]
     },
     "metadata": {},
     "output_type": "display_data"
    },
    {
     "data": {
      "text/plain": [
       "Gender                              0\n",
       "Age                                 0\n",
       "Income                              0\n",
       "Education                           0\n",
       "Relationship_Status                 0\n",
       "Residence                           0\n",
       "Home                                0\n",
       "Number_Dogs                         0\n",
       "Dog_Weights                         0\n",
       "Weights_Less_10                     0\n",
       "Weights_11_25                       0\n",
       "Weights_91_120                      0\n",
       "Weights_71_90                       0\n",
       "Weights_41_70                       0\n",
       "Weights_26_40                       0\n",
       "Weights_Greater_120                 0\n",
       "Security_Cameras                    0\n",
       "Spend_Insurance                   171\n",
       "Spend_Food                          2\n",
       "Spend_Boarding                    181\n",
       "Spend_Grooming                     97\n",
       "Service_Animal                      0\n",
       "Car_Seat                            0\n",
       "Car_Seat_Retail                   141\n",
       "Exercise                            0\n",
       "Activities_Walk                     0\n",
       "Activities_Run                      0\n",
       "Activities_Hunt                     0\n",
       "Activities_Dog_Parks                0\n",
       "Activities_Outdoor_Adventures       0\n",
       "Activities_Shopping                 0\n",
       "Activities_Vacation                 0\n",
       "Walking_Assistance                  0\n",
       "Vehicle_Types                       0\n",
       "Concern_Safety                      0\n",
       "Accidents                           0\n",
       "Accident_with_Dog                   0\n",
       "Dog_Injured_Accident                0\n",
       "Dog_Insurance_Claim                 0\n",
       "Restrain_Dog                        0\n",
       "Paid_Restraint                    207\n",
       "Restraint_Influence_Online          0\n",
       "Restraint_Influence_Retail          0\n",
       "Restraint_Influence_Price           0\n",
       "Restraint_Influence_Aesthetics      0\n",
       "Influence_Removable                 0\n",
       "Influence_Stain                     0\n",
       "Influence_Lightweight               0\n",
       "Influence_Sturdy                    0\n",
       "Pay_Basic_100                     259\n",
       "Pay_Basic_200                     255\n",
       "Pay_Revolutionary_100             270\n",
       "Pay_Revolutionary_200             267\n",
       "Pay_Fact_100                      246\n",
       "Pay_Fact_200                      264\n",
       "Pay_Law_100                       266\n",
       "Pay_Law_200                       267\n",
       "Pay_All_100                       267\n",
       "Pay_All_200                       267\n",
       "Maximum_Pay                         0\n",
       "dtype: int64"
      ]
     },
     "metadata": {},
     "output_type": "display_data"
    }
   ],
   "source": [
    "display(survey_data.dtypes)\n",
    "display(survey_data.isnull().sum()) # display missing values"
   ]
  },
  {
   "cell_type": "code",
   "execution_count": 16,
   "metadata": {
    "ExecuteTime": {
     "end_time": "2021-11-22T00:00:44.195367Z",
     "start_time": "2021-11-22T00:00:44.159771Z"
    }
   },
   "outputs": [],
   "source": [
    "# replace nulls with 0 in numeric fields\n",
    "replace_nulls_cols = ['Spend_Insurance', 'Spend_Food', 'Spend_Boarding', 'Spend_Grooming']\n",
    "survey_data[replace_nulls_cols] = survey_data[replace_nulls_cols].fillna(0)"
   ]
  },
  {
   "cell_type": "code",
   "execution_count": 17,
   "metadata": {
    "ExecuteTime": {
     "end_time": "2021-11-22T00:00:56.836071Z",
     "start_time": "2021-11-22T00:00:56.825702Z"
    }
   },
   "outputs": [
    {
     "data": {
      "text/plain": [
       "Gender                              0\n",
       "Age                                 0\n",
       "Income                              0\n",
       "Education                           0\n",
       "Relationship_Status                 0\n",
       "Residence                           0\n",
       "Home                                0\n",
       "Number_Dogs                         0\n",
       "Dog_Weights                         0\n",
       "Weights_Less_10                     0\n",
       "Weights_11_25                       0\n",
       "Weights_91_120                      0\n",
       "Weights_71_90                       0\n",
       "Weights_41_70                       0\n",
       "Weights_26_40                       0\n",
       "Weights_Greater_120                 0\n",
       "Security_Cameras                    0\n",
       "Spend_Insurance                     0\n",
       "Spend_Food                          0\n",
       "Spend_Boarding                      0\n",
       "Spend_Grooming                      0\n",
       "Service_Animal                      0\n",
       "Car_Seat                            0\n",
       "Car_Seat_Retail                   141\n",
       "Exercise                            0\n",
       "Activities_Walk                     0\n",
       "Activities_Run                      0\n",
       "Activities_Hunt                     0\n",
       "Activities_Dog_Parks                0\n",
       "Activities_Outdoor_Adventures       0\n",
       "Activities_Shopping                 0\n",
       "Activities_Vacation                 0\n",
       "Walking_Assistance                  0\n",
       "Vehicle_Types                       0\n",
       "Concern_Safety                      0\n",
       "Accidents                           0\n",
       "Accident_with_Dog                   0\n",
       "Dog_Injured_Accident                0\n",
       "Dog_Insurance_Claim                 0\n",
       "Restrain_Dog                        0\n",
       "Paid_Restraint                    207\n",
       "Restraint_Influence_Online          0\n",
       "Restraint_Influence_Retail          0\n",
       "Restraint_Influence_Price           0\n",
       "Restraint_Influence_Aesthetics      0\n",
       "Influence_Removable                 0\n",
       "Influence_Stain                     0\n",
       "Influence_Lightweight               0\n",
       "Influence_Sturdy                    0\n",
       "Pay_Basic_100                     259\n",
       "Pay_Basic_200                     255\n",
       "Pay_Revolutionary_100             270\n",
       "Pay_Revolutionary_200             267\n",
       "Pay_Fact_100                      246\n",
       "Pay_Fact_200                      264\n",
       "Pay_Law_100                       266\n",
       "Pay_Law_200                       267\n",
       "Pay_All_100                       267\n",
       "Pay_All_200                       267\n",
       "Maximum_Pay                         0\n",
       "dtype: int64"
      ]
     },
     "metadata": {},
     "output_type": "display_data"
    }
   ],
   "source": [
    "# double check\n",
    "display(survey_data.isnull().sum()) # display missing values"
   ]
  },
  {
   "cell_type": "markdown",
   "metadata": {},
   "source": [
    "# Visualize the Data"
   ]
  },
  {
   "cell_type": "code",
   "execution_count": null,
   "metadata": {},
   "outputs": [],
   "source": [
    "#Gender                             object\n",
    "#Age                                object\n",
    "#Income                             object\n",
    "#Education                          object\n",
    "#Relationship_Status                object\n",
    "#Residence                          object\n",
    "#Home                               object\n",
    "#Number_Dogs                        object\n",
    "#Dog_Weights                        object\n",
    "#Weights_Less_10                      bool\n",
    "#Weights_11_25                        bool\n",
    "#Weights_91_120                       bool\n",
    "#Weights_71_90                        bool\n",
    "#Weights_41_70                        bool\n",
    "#Weights_26_40                        bool\n",
    "#Weights_Greater_120                  bool\n",
    "#Security_Cameras                   object\n",
    "#Spend_Insurance                   float64\n",
    "#Spend_Food                        float64\n",
    "#Spend_Boarding                    float64\n",
    "#Spend_Grooming                    float64\n",
    "#Service_Animal                     object\n",
    "#Car_Seat                           object\n",
    "#Car_Seat_Retail                    object\n",
    "#Exercise                           object\n",
    "#Activities_Walk                     int64\n",
    "#Activities_Run                      int64\n",
    "#Activities_Hunt                     int64\n",
    "#Activities_Dog_Parks                int64\n",
    "#Activities_Outdoor_Adventures       int64\n",
    "#Activities_Shopping                 int64\n",
    "#Activities_Vacation                 int64\n",
    "#Walking_Assistance                 object\n",
    "#Vehicle_Types                      object\n",
    "#Concern_Safety                     object\n",
    "#Accidents                          object\n",
    "#Accident_with_Dog                  object\n",
    "#Dog_Injured_Accident               object\n",
    "#Dog_Insurance_Claim                object\n",
    "#Restrain_Dog                       object\n",
    "#Paid_Restraint                    float64\n",
    "#Restraint_Influence_Online          int64\n",
    "#Restraint_Influence_Retail          int64\n",
    "#Restraint_Influence_Price           int64\n",
    "#Restraint_Influence_Aesthetics      int64\n",
    "#Influence_Removable                 int64\n",
    "#Influence_Stain                     int64\n",
    "#Influence_Lightweight               int64\n",
    "#Influence_Sturdy                    int64\n",
    "#Pay_Basic_100                      object\n",
    "#Pay_Basic_200                      object\n",
    "#Pay_Revolutionary_100              object\n",
    "#Pay_Revolutionary_200              object\n",
    "#Pay_Fact_100                       object\n",
    "#Pay_Fact_200                       object\n",
    "#Pay_Law_100                        object\n",
    "#Pay_Law_200                        object\n",
    "#Pay_All_100                        object\n",
    "#Pay_All_200                        object\n",
    "#Maximum_Pay                         int64"
   ]
  }
 ],
 "metadata": {
  "kernelspec": {
   "display_name": "Python 3",
   "language": "python",
   "name": "python3"
  },
  "language_info": {
   "codemirror_mode": {
    "name": "ipython",
    "version": 3
   },
   "file_extension": ".py",
   "mimetype": "text/x-python",
   "name": "python",
   "nbconvert_exporter": "python",
   "pygments_lexer": "ipython3",
   "version": "3.7.7"
  },
  "toc": {
   "base_numbering": 1,
   "nav_menu": {},
   "number_sections": true,
   "sideBar": true,
   "skip_h1_title": false,
   "title_cell": "Table of Contents",
   "title_sidebar": "Contents",
   "toc_cell": false,
   "toc_position": {},
   "toc_section_display": true,
   "toc_window_display": false
  }
 },
 "nbformat": 4,
 "nbformat_minor": 4
}
