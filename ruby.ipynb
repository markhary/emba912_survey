{
 "cells": [
  {
   "cell_type": "markdown",
   "metadata": {},
   "source": [
    "# Project Ruby\n",
    "\n",
    "Customer survey analysis"
   ]
  },
  {
   "cell_type": "code",
   "execution_count": 2,
   "metadata": {
    "ExecuteTime": {
     "end_time": "2021-11-21T21:11:24.727768Z",
     "start_time": "2021-11-21T21:11:08.086475Z"
    }
   },
   "outputs": [],
   "source": [
    "import numpy as np\n",
    "import pandas as pd\n",
    "import matplotlib.pyplot as plt\n",
    "import seaborn as sns\n",
    "\n",
    "%matplotlib inline"
   ]
  },
  {
   "cell_type": "code",
   "execution_count": 3,
   "metadata": {
    "ExecuteTime": {
     "end_time": "2021-11-21T21:11:48.023597Z",
     "start_time": "2021-11-21T21:11:48.016811Z"
    }
   },
   "outputs": [],
   "source": [
    "image_directory=\"images/\"\n",
    "image_extension=\"png\"\n",
    "\n",
    "def save_figure(fig, filename):\n",
    "    filepath = image_directory + filename + \".\" + image_extension\n",
    "    fig.savefig(filepath)"
   ]
  },
  {
   "cell_type": "code",
   "execution_count": 4,
   "metadata": {
    "ExecuteTime": {
     "end_time": "2021-11-21T21:12:07.535031Z",
     "start_time": "2021-11-21T21:12:07.528507Z"
    }
   },
   "outputs": [],
   "source": [
    "NORMAL_SIZE = 12\n",
    "#BIGGER_SIZE = 14\n",
    "#BIGGEST_SIZE = 16\n",
    "\n",
    "plt.rc('font', size=NORMAL_SIZE)          # controls default text sizes\n",
    "#plt.rc('axes', titlesize=BIGGER_SIZE)     # fontsize of the axes title\n",
    "#plt.rc('axes', labelsize=BIGGER_SIZE)    # fontsize of the x and y labels\n",
    "#plt.rc('xtick', labelsize=NORMAL_SIZE)    # fontsize of the tick labels\n",
    "#plt.rc('ytick', labelsize=NORMAL_SIZE)    # fontsize of the tick labels\n",
    "#plt.rc('legend', fontsize=NORMAL_SIZE)    # legend fontsize\n",
    "#plt.rc('figure', titlesize=BIGGEST_SIZE)  # fontsize of the figure title\n",
    "\n",
    "sns.set(font_scale=1.1)"
   ]
  },
  {
   "cell_type": "markdown",
   "metadata": {},
   "source": [
    "# Data Preparation"
   ]
  },
  {
   "cell_type": "code",
   "execution_count": null,
   "metadata": {},
   "outputs": [],
   "source": [
    "bank_data = pd.read_csv(\"r.csv\");\n",
    "display(bank_data.shape) # rows & columns"
   ]
  }
 ],
 "metadata": {
  "kernelspec": {
   "display_name": "Python 3",
   "language": "python",
   "name": "python3"
  },
  "language_info": {
   "codemirror_mode": {
    "name": "ipython",
    "version": 3
   },
   "file_extension": ".py",
   "mimetype": "text/x-python",
   "name": "python",
   "nbconvert_exporter": "python",
   "pygments_lexer": "ipython3",
   "version": "3.7.7"
  },
  "toc": {
   "base_numbering": 1,
   "nav_menu": {},
   "number_sections": true,
   "sideBar": true,
   "skip_h1_title": false,
   "title_cell": "Table of Contents",
   "title_sidebar": "Contents",
   "toc_cell": false,
   "toc_position": {},
   "toc_section_display": true,
   "toc_window_display": false
  }
 },
 "nbformat": 4,
 "nbformat_minor": 4
}
